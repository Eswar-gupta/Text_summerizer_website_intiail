{
 "cells": [
  {
   "cell_type": "code",
   "execution_count": 54,
   "metadata": {},
   "outputs": [
    {
     "data": {
      "text/plain": [
       "'d:\\\\1Acads_local\\\\AI_related_projects\\\\github_projects\\\\text_summeriser_project\\\\Text_summerizer_website_intiail'"
      ]
     },
     "execution_count": 54,
     "metadata": {},
     "output_type": "execute_result"
    }
   ],
   "source": [
    "import os\n",
    "os.chdir(\"../\")\n",
    "%pwd"
   ]
  },
  {
   "cell_type": "code",
   "execution_count": 55,
   "metadata": {},
   "outputs": [],
   "source": [
    "import os\n",
    "import numpy as np\n",
    "import pandas as pd"
   ]
  },
  {
   "cell_type": "code",
   "execution_count": 56,
   "metadata": {},
   "outputs": [],
   "source": [
    "from dataclasses import dataclass\n",
    "from pathlib import Path\n",
    "\n",
    "## Ingeneral when we create a class we need to wrap that with th decorator dataclass(frozen = True) -->to automatically define __init__,__repr__,__eq__ ,to make the class immutable(frozen = True) That is any instance of this class once declraed can't be changed latter like a constant variable\n",
    "@dataclass(frozen=True)\n",
    "class DataingestionConfig:\n",
    "    root_dir:Path\n",
    "    source_url:str\n",
    "    local_data_file:Path\n",
    "    unzip_dir:Path"
   ]
  },
  {
   "cell_type": "code",
   "execution_count": 57,
   "metadata": {},
   "outputs": [],
   "source": [
    "import sys\n",
    "import os\n",
    "\n",
    "# Add the src directory to the Python path\n",
    "sys.path.append(os.path.abspath(os.path.join(os.getcwd(), '..')))\n",
    "\n",
    "from src.textSummarizer.constants import config_yaml_file_path, prams_yaml_file_path\n",
    "from src.textSummarizer.utils.common import read_yaml, create_directories"
   ]
  },
  {
   "cell_type": "code",
   "execution_count": 62,
   "metadata": {},
   "outputs": [],
   "source": [
    "class ConfigurationManager:\n",
    "    def __init__(\n",
    "        self,\n",
    "        config_filepath = config_yaml_file_path,\n",
    "        params_filepath = prams_yaml_file_path):\n",
    "\n",
    "        self.config = read_yaml(config_filepath)\n",
    "        self.params = read_yaml(params_filepath)\n",
    "\n",
    "        create_directories([self.config.artifacts_root])\n",
    "\n",
    "    \n",
    "\n",
    "    def get_data_ingestion_config(self) -> DataingestionConfig:\n",
    "        config = self.config.data_ingestion_config\n",
    "\n",
    "        create_directories([config.root_dir])\n",
    "\n",
    "        data_ingestion = DataingestionConfig(\n",
    "            root_dir=config.root_dir,\n",
    "            source_url =config.source_URL,\n",
    "            local_data_file=config.local_data_file,\n",
    "            unzip_dir=config.unzip_dir \n",
    "        )\n",
    "\n",
    "        return data_ingestion"
   ]
  },
  {
   "cell_type": "code",
   "execution_count": 63,
   "metadata": {},
   "outputs": [],
   "source": [
    "import os\n",
    "import urllib.request as request\n",
    "import zipfile\n",
    "from src.textSummarizer.logging.logging import logger\n",
    "from src.textSummarizer.utils.common import get_size"
   ]
  },
  {
   "cell_type": "code",
   "execution_count": 78,
   "metadata": {},
   "outputs": [],
   "source": [
    "import os\n",
    "import requests\n",
    "import zipfile\n",
    "import logging\n",
    "from pathlib import Path\n",
    "\n",
    "class DataIngestion:\n",
    "    def __init__(self, config):\n",
    "        self.config = config\n",
    "        logging.basicConfig(level=logging.INFO)\n",
    "        self.logger = logging.getLogger(__name__)\n",
    "\n",
    "    def download_file(self):\n",
    "        try:\n",
    "            source_url = self.config.source_url\n",
    "            local_file = self.config.local_data_file\n",
    "\n",
    "            # Create directory if needed\n",
    "            os.makedirs(os.path.dirname(local_file), exist_ok=True)\n",
    "\n",
    "            # Download with proper headers\n",
    "            headers = {\n",
    "                'User-Agent': 'Mozilla/5.0 (Windows NT 10.0; Win64; x64) AppleWebKit/537.36'\n",
    "            }\n",
    "\n",
    "            response = requests.get(source_url, headers=headers, stream=True)\n",
    "            response.raise_for_status()\n",
    "\n",
    "            # Write file in chunks\n",
    "            with open(local_file, 'wb') as f:\n",
    "                for chunk in response.iter_content(chunk_size=8192):\n",
    "                    if chunk:\n",
    "                        f.write(chunk)\n",
    "\n",
    "            # Verify downloaded file\n",
    "            if not os.path.exists(local_file):\n",
    "                raise Exception(\"Download failed - file not created\")\n",
    "            \n",
    "            if not zipfile.is_zipfile(local_file):\n",
    "                os.remove(local_file)\n",
    "                raise Exception(\"Downloaded file is not a valid ZIP\")\n",
    "\n",
    "            self.logger.info(f\"Download successful: {local_file}\")\n",
    "            return local_file\n",
    "\n",
    "        except Exception as e:\n",
    "            self.logger.error(f\"Download failed: {str(e)}\")\n",
    "            raise\n",
    "\n",
    "    def extract_zip_file(self):\n",
    "        try:\n",
    "            local_file = self.config.local_data_file\n",
    "            unzip_path = self.config.unzip_dir\n",
    "            \n",
    "            if not os.path.exists(local_file):\n",
    "                raise FileNotFoundError(f\"ZIP file not found: {local_file}\")\n",
    "\n",
    "            os.makedirs(unzip_path, exist_ok=True)\n",
    "\n",
    "            with zipfile.ZipFile(local_file, 'r') as zip_ref:\n",
    "                # Test ZIP file integrity before extraction\n",
    "                if zip_ref.testzip() is not None:\n",
    "                    raise zipfile.BadZipFile(\"ZIP file is corrupted\")\n",
    "                zip_ref.extractall(unzip_path)\n",
    "\n",
    "            self.logger.info(f\"Extraction successful: {unzip_path}\")\n",
    "\n",
    "        except Exception as e:\n",
    "            self.logger.error(f\"Extraction failed: {str(e)}\")\n",
    "            raise"
   ]
  },
  {
   "cell_type": "code",
   "execution_count": 79,
   "metadata": {},
   "outputs": [
    {
     "name": "stdout",
     "output_type": "stream",
     "text": [
      "[2024-12-23 12:26:09,654: INFO: common: yaml file: config\\config.yaml loaded successfully]\n",
      "[2024-12-23 12:26:09,659: INFO: common: yaml file: params.yaml loaded successfully]\n",
      "[2024-12-23 12:26:09,661: INFO: common: created directory at: artifacts]\n",
      "[2024-12-23 12:26:09,662: INFO: common: created directory at: artifacts/data_ingestion]\n",
      "[2024-12-23 12:27:08,499: INFO: 1128719105: Download successful: artifacts/data_ingestion/data.zip]\n",
      "[2024-12-23 12:27:08,741: INFO: 1128719105: Extraction successful: artifacts/data_ingestion]\n"
     ]
    }
   ],
   "source": [
    "from src.textSummarizer.constants import * \n",
    "try:\n",
    "    config = ConfigurationManager()\n",
    "    data_ingestion_config = config.get_data_ingestion_config()\n",
    "    data_ingestion = DataIngestion(config=data_ingestion_config)\n",
    "    data_ingestion.download_file()\n",
    "    data_ingestion.extract_zip_file()\n",
    "except Exception as e:\n",
    "    raise e"
   ]
  },
  {
   "cell_type": "code",
   "execution_count": 74,
   "metadata": {},
   "outputs": [
    {
     "name": "stdout",
     "output_type": "stream",
     "text": [
      "Valid ZIP signature detected: 504b0304\n",
      "File appears to be a valid ZIP\n"
     ]
    }
   ],
   "source": [
    "import requests\n",
    "import io\n",
    "import zipfile\n",
    "import binascii\n",
    "\n",
    "def verify_zip_file(url):\n",
    "    \"\"\"\n",
    "    Verify if URL points to a valid ZIP file by checking signatures\n",
    "    \"\"\"\n",
    "    try:\n",
    "        # Setup headers\n",
    "        headers = {\n",
    "            'User-Agent': 'Mozilla/5.0 (Windows NT 10.0; Win64; x64) AppleWebKit/537.36'\n",
    "        }\n",
    "        \n",
    "        # Download first 4 bytes to check signature\n",
    "        response = requests.get(url, headers=headers, stream=True)\n",
    "        response.raise_for_status()\n",
    "        \n",
    "        # Read first 4 bytes\n",
    "        header = next(response.iter_content(4))\n",
    "        \n",
    "        # ZIP file signature is 50 4B 03 04 in hex\n",
    "        zip_signature = b'PK\\x03\\x04'\n",
    "        \n",
    "        if header == zip_signature:\n",
    "            print(f\"Valid ZIP signature detected: {binascii.hexlify(header).decode()}\")\n",
    "            return True\n",
    "        else:\n",
    "            print(f\"Invalid ZIP signature: {binascii.hexlify(header).decode()}\")\n",
    "            return False\n",
    "            \n",
    "    except Exception as e:\n",
    "        print(f\"Error checking ZIP file: {str(e)}\")\n",
    "        return False\n",
    "\n",
    "# Test the URL\n",
    "url = \"https://github.com/entbappy/Branching-tutorial/raw/master/summarizer-data.zip\"\n",
    "if verify_zip_file(url):\n",
    "    print(\"File appears to be a valid ZIP\")\n",
    "else:\n",
    "    print(\"File is not a valid ZIP\")"
   ]
  },
  {
   "cell_type": "code",
   "execution_count": null,
   "metadata": {},
   "outputs": [],
   "source": []
  }
 ],
 "metadata": {
  "kernelspec": {
   "display_name": "myenvtext",
   "language": "python",
   "name": "python3"
  },
  "language_info": {
   "codemirror_mode": {
    "name": "ipython",
    "version": 3
   },
   "file_extension": ".py",
   "mimetype": "text/x-python",
   "name": "python",
   "nbconvert_exporter": "python",
   "pygments_lexer": "ipython3",
   "version": "3.8.20"
  }
 },
 "nbformat": 4,
 "nbformat_minor": 2
}
