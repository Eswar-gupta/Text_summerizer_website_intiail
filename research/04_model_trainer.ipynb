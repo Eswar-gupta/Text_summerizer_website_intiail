{
 "cells": [
  {
   "cell_type": "code",
   "execution_count": 1,
   "metadata": {},
   "outputs": [
    {
     "name": "stdout",
     "output_type": "stream",
     "text": [
      "Current directory: d:\\1Acads_local\\AI_related_projects\\github_projects\\text_summeriser_project\\Text_summerizer_website_intiail\\research\n",
      "Current directory: d:\\1Acads_local\\AI_related_projects\\github_projects\\text_summeriser_project\\Text_summerizer_website_intiail\n"
     ]
    }
   ],
   "source": [
    "import os\n",
    "from pathlib import Path\n",
    "import sys\n",
    "import pandas as pd\n",
    "import numpy as np\n",
    "notebook_path = os.getcwd()\n",
    "ROOT_dir = Path(notebook_path).parent.absolute()\n",
    "sys.path.append(str(ROOT_dir))\n",
    "from src.textSummarizer.logging.logging import logger\n",
    "print(f\"Current directory: {os.getcwd()}\")\n",
    "os.chdir(\"..\")\n",
    "print(f\"Current directory: {os.getcwd()}\")"
   ]
  },
  {
   "cell_type": "code",
   "execution_count": null,
   "metadata": {},
   "outputs": [],
   "source": [
    "from dataclasses import dataclass\n",
    "from pathlib import Path\n",
    "\n",
    "@dataclass(frozen=True)\n",
    "class ModelTrainerConfig:\n",
    "    root_dir: Path\n",
    "    data_path: Path\n",
    "    model_ckpt: Path\n",
    "    num_train_epochs: int\n",
    "    warmup_steps: int\n",
    "    per_device_train_batch_size: int\n",
    "    weight_decay: float\n",
    "    logging_steps: int"
   ]
  },
  {
   "cell_type": "code",
   "execution_count": null,
   "metadata": {},
   "outputs": [
    {
     "name": "stdout",
     "output_type": "stream",
     "text": [
      "D:\\1Acads_local\\AI_related_projects\\github_projects\\text_summeriser_project\\Text_summerizer_website_intiail\\config\\config.yaml\n",
      "D:\\1Acads_local\\AI_related_projects\\github_projects\\text_summeriser_project\\Text_summerizer_website_intiail\\params.yaml\n"
     ]
    }
   ],
   "source": [
    "from src.textSummarizer.constants import config_yaml_file_path,prams_yaml_file_path\n",
    "from src.textSummarizer.utils.common import read_yaml,create_directories\n",
    "\n",
    "\n",
    "class ConfigurationManager:\n",
    "    def __init__(\n",
    "        self,\n",
    "        config_filepath = config_yaml_file_path,\n",
    "        params_filepath = prams_yaml_file_path):\n",
    "\n",
    "        self.config = read_yaml(config_filepath)\n",
    "        self.params = read_yaml(params_filepath)\n",
    "\n",
    "        create_directories([self.config.artifacts_root])\n",
    "\n",
    "    def get_model_trainer_config(self):\n",
    "        config = self.config.model_trainer\n",
    "        params = self.params.TrainingArguments\n",
    "\n",
    "        model_trainer_config = ModelTrainerConfig(\n",
    "            root_dir=config.root_dir,\n",
    "            data_path=config.data_path,\n",
    "            model_ckpt = config.model_ckpt,\n",
    "            num_train_epochs = params.num_train_epochs,\n",
    "            warmup_steps = params.warmup_steps,\n",
    "            per_device_train_batch_size = params.per_device_train_batch_size,\n",
    "            weight_decay = params.weight_decay,\n",
    "            logging_steps = params.logging_steps,\n",
    "        )\n",
    "\n",
    "        return model_trainer_config"
   ]
  },
  {
   "cell_type": "code",
   "execution_count": null,
   "metadata": {},
   "outputs": [
    {
     "name": "stderr",
     "output_type": "stream",
     "text": [
      "c:\\Users\\gurra\\anaconda3\\envs\\myenvtext\\lib\\site-packages\\tqdm\\auto.py:21: TqdmWarning: IProgress not found. Please update jupyter and ipywidgets. See https://ipywidgets.readthedocs.io/en/stable/user_install.html\n",
      "  from .autonotebook import tqdm as notebook_tqdm\n"
     ]
    },
    {
     "name": "stdout",
     "output_type": "stream",
     "text": [
      "[2024-12-25 22:23:29,286: INFO: config: PyTorch version 2.4.1 available.]\n"
     ]
    }
   ],
   "source": [
    "from transformers import AutoTokenizer\n",
    "from transformers import AutoModelForSeq2SeqLM\n",
    "from transformers import TrainingArguments, Trainer\n",
    "from transformers import DataCollatorForSeq2Seq\n",
    "from transformers import AutoModelForSeq2SeqLM, AutoTokenizer\n",
    "from datasets import load_dataset, load_from_disk\n",
    "import torch\n",
    "import os\n",
    "\n",
    "\n",
    "from transformers import AutoTokenizer, AutoModelForSeq2SeqLM, TrainingArguments, Trainer, DataCollatorForSeq2Seq\n",
    "from datasets import load_from_disk\n",
    "from huggingface_hub import login\n",
    "import os\n",
    "from src.textSummarizer.logging.logging import logger\n",
    "\n",
    "class ModelTrainer:\n",
    "    def __init__(self, config: ModelTrainerConfig):\n",
    "        self.config = config\n",
    "        \n",
    "        # Initialize HF authentication if token exists\n",
    "        if hasattr(self.config, 'hf_token') and self.config.hf_token:\n",
    "            logger.info(\"Authenticating with Hugging Face hub\")\n",
    "            login(token=self.config.hf_token)\n",
    "            self.use_auth = True\n",
    "        else:\n",
    "            logger.warning(\"No HF token provided - attempting without authentication\")\n",
    "            self.use_auth = False\n",
    "\n",
    "    def train(self):\n",
    "        try:\n",
    "            logger.info(\"Initializing training components\")\n",
    "            device = \"cpu\"\n",
    "            \n",
    "            # Initialize tokenizer with auth\n",
    "            logger.info(\"Loading tokenizer\")\n",
    "            tokenizer = AutoTokenizer.from_pretrained(\n",
    "                self.config.model_ckpt,\n",
    "                use_auth_token=self.config.hf_token if self.use_auth else None\n",
    "            )\n",
    "            \n",
    "            # Initialize model with auth\n",
    "            logger.info(\"Loading model\")\n",
    "            model_pegasus = AutoModelForSeq2SeqLM.from_pretrained(\n",
    "                self.config.model_ckpt,\n",
    "                use_auth_token=self.config.hf_token if self.use_auth else None\n",
    "            ).to(device)\n",
    "            \n",
    "            # Initialize data collator\n",
    "            logger.info(\"Setting up data collator\")\n",
    "            seq2seq_data_collator = DataCollatorForSeq2Seq(tokenizer, model=model_pegasus)\n",
    "            \n",
    "            # Load dataset\n",
    "            # Fix path resolution using Path and os.path\n",
    "            data_set_location = self.config.data_path  # artifacts/data_transformation/samsum_dataset\n",
    "            #ROOT_dir = Path(notebook_path).parent.absolute()  # Fix: removed extra parentheses\n",
    "            #data_set_location = os.path.join(ROOT_dir, data_set_location)  # Join paths correctly\n",
    "\n",
    "            # Ensure path exists\n",
    "            if not os.path.exists(data_set_location):\n",
    "                raise FileNotFoundError(f\"Dataset not found at: {data_set_location}\")\n",
    "            else:\n",
    "                logger.info(f\"Loading dataset from {data_set_location} and path = {os.getcwd()}\")\n",
    "\n",
    "            logger.info(f\"Loading dataset from {data_set_location}\")\n",
    "            dataset_samsum_pt = load_from_disk(data_set_location)\n",
    "            logger.info(f\">>>>>>>>>>>>>>>>>> data loading successful <<<<<<<<<<<<<<<<<<<<\")\n",
    "            \n",
    "            # Training arguments\n",
    "            logger.info(\"Configuring training arguments\")\n",
    "            training_args = TrainingArguments(\n",
    "                output_dir=self.config.root_dir,\n",
    "                num_train_epochs=self.config.num_train_epochs,\n",
    "                warmup_steps=self.config.warmup_steps,\n",
    "                per_device_train_batch_size=self.config.per_device_train_batch_size,\n",
    "                weight_decay=self.config.weight_decay,\n",
    "                logging_steps=self.config.logging_steps,\n",
    "            )\n",
    "\n",
    "            # Initialize Trainer\n",
    "            logger.info(\"Initializing Trainer\")\n",
    "            trainer = Trainer(\n",
    "                model=model_pegasus,\n",
    "                args=training_args,\n",
    "                train_dataset=dataset_samsum_pt['train'],\n",
    "                eval_dataset=dataset_samsum_pt['validation'],\n",
    "                data_collator=seq2seq_data_collator,\n",
    "                tokenizer=tokenizer\n",
    "            )\n",
    "\n",
    "            # Start training\n",
    "            logger.info(\"Starting training\")\n",
    "            trainer.train()\n",
    "\n",
    "        except Exception as e:\n",
    "            logger.info(f\"An error occurred during training: {e}\")\n",
    "            raise e\n",
    "\n",
    "        "
   ]
  },
  {
   "cell_type": "code",
   "execution_count": 5,
   "metadata": {},
   "outputs": [],
   "source": [
    "from src.textSummarizer.config.configuration import  ConfigurationManager\n",
    "\n",
    "\n",
    "class ModelTrainerTrainingPipeline:\n",
    "    def __init__(self):\n",
    "        pass\n",
    "\n",
    "    def main(self):\n",
    "        try:\n",
    "            config = ConfigurationManager()\n",
    "            model_trainer_config = config.get_model_trainer_config() #This will return all the weights and ckpt file and path of dataset etc....\n",
    "            model_trainer = ModelTrainer(model_trainer_config)\n",
    "            model_trainer.train()\n",
    "        except Exception as e:\n",
    "            print(e)\n",
    "\n"
   ]
  },
  {
   "cell_type": "code",
   "execution_count": 6,
   "metadata": {},
   "outputs": [
    {
     "name": "stdout",
     "output_type": "stream",
     "text": [
      "[2024-12-25 22:23:33,313: INFO: common: yaml file: D:\\1Acads_local\\AI_related_projects\\github_projects\\text_summeriser_project\\Text_summerizer_website_intiail\\config\\config.yaml loaded successfully]\n",
      "[2024-12-25 22:23:33,327: INFO: common: yaml file: D:\\1Acads_local\\AI_related_projects\\github_projects\\text_summeriser_project\\Text_summerizer_website_intiail\\params.yaml loaded successfully]\n",
      "[2024-12-25 22:23:33,329: INFO: common: created directory at: artifacts]\n",
      "[2024-12-25 22:23:33,331: INFO: common: created directory at: artifacts/model_trainer]\n",
      "[2024-12-25 22:23:33,332: WARNING: 1988041802: No HF token provided - attempting without authentication]\n",
      "Starting model training...\n",
      "[2024-12-25 22:23:33,333: INFO: 1988041802: Initializing training components]\n",
      "[2024-12-25 22:23:33,335: INFO: 1988041802: Loading tokenizer]\n",
      "[2024-12-25 22:23:35,207: INFO: 1988041802: Loading model]\n"
     ]
    },
    {
     "name": "stderr",
     "output_type": "stream",
     "text": [
      "Some weights of PegasusForConditionalGeneration were not initialized from the model checkpoint at google/pegasus-cnn_dailymail and are newly initialized: ['model.decoder.embed_positions.weight', 'model.encoder.embed_positions.weight']\n",
      "You should probably TRAIN this model on a down-stream task to be able to use it for predictions and inference.\n"
     ]
    },
    {
     "name": "stdout",
     "output_type": "stream",
     "text": [
      "[2024-12-25 22:23:42,779: INFO: 1988041802: Setting up data collator]\n",
      "[2024-12-25 22:23:42,782: INFO: 1988041802: Loading dataset from artifacts/data_transformation/samsum_dataset and path = d:\\1Acads_local\\AI_related_projects\\github_projects\\text_summeriser_project\\Text_summerizer_website_intiail]\n",
      "[2024-12-25 22:23:42,783: INFO: 1988041802: Loading dataset from artifacts/data_transformation/samsum_dataset]\n",
      "[2024-12-25 22:23:42,970: INFO: 1988041802: >>>>>>>>>>>>>>>>>> data loading successful <<<<<<<<<<<<<<<<<<<<]\n",
      "[2024-12-25 22:23:42,972: INFO: 1988041802: Configuring training arguments]\n",
      "[2024-12-25 22:23:42,982: INFO: 1988041802: An error occurred during training: '>' not supported between instances of 'str' and 'int']\n",
      "Training error occurred: '>' not supported between instances of 'str' and 'int'\n",
      "[2024-12-25 22:23:42,983: INFO: 2724284290: Training failed with error: '>' not supported between instances of 'str' and 'int']\n",
      "Setup error occurred: '>' not supported between instances of 'str' and 'int'\n",
      "[2024-12-25 22:23:42,984: INFO: 2724284290: Setup failed with error: '>' not supported between instances of 'str' and 'int']\n"
     ]
    },
    {
     "name": "stderr",
     "output_type": "stream",
     "text": [
      "c:\\Users\\gurra\\anaconda3\\envs\\myenvtext\\lib\\site-packages\\transformers\\training_args.py:1568: FutureWarning: `evaluation_strategy` is deprecated and will be removed in version 4.46 of 🤗 Transformers. Use `eval_strategy` instead\n",
      "  warnings.warn(\n"
     ]
    },
    {
     "ename": "TypeError",
     "evalue": "'>' not supported between instances of 'str' and 'int'",
     "output_type": "error",
     "traceback": [
      "\u001b[1;31m---------------------------------------------------------------------------\u001b[0m",
      "\u001b[1;31mTypeError\u001b[0m                                 Traceback (most recent call last)",
      "Cell \u001b[1;32mIn[6], line 8\u001b[0m\n\u001b[0;32m      6\u001b[0m \u001b[38;5;28;01mtry\u001b[39;00m:\n\u001b[0;32m      7\u001b[0m     \u001b[38;5;28mprint\u001b[39m(\u001b[38;5;124m\"\u001b[39m\u001b[38;5;124mStarting model training...\u001b[39m\u001b[38;5;124m\"\u001b[39m)\n\u001b[1;32m----> 8\u001b[0m     \u001b[43mmodel_trainer\u001b[49m\u001b[38;5;241;43m.\u001b[39;49m\u001b[43mtrain\u001b[49m\u001b[43m(\u001b[49m\u001b[43m)\u001b[49m\n\u001b[0;32m      9\u001b[0m     \u001b[38;5;28mprint\u001b[39m(\u001b[38;5;124m\"\u001b[39m\u001b[38;5;124mTraining completed successfully\u001b[39m\u001b[38;5;124m\"\u001b[39m)\n\u001b[0;32m     11\u001b[0m \u001b[38;5;28;01mexcept\u001b[39;00m \u001b[38;5;167;01mKeyboardInterrupt\u001b[39;00m:\n",
      "Cell \u001b[1;32mIn[4], line 101\u001b[0m, in \u001b[0;36mModelTrainer.train\u001b[1;34m(self)\u001b[0m\n\u001b[0;32m     99\u001b[0m \u001b[38;5;28;01mexcept\u001b[39;00m \u001b[38;5;167;01mException\u001b[39;00m \u001b[38;5;28;01mas\u001b[39;00m e:\n\u001b[0;32m    100\u001b[0m     logger\u001b[38;5;241m.\u001b[39minfo(\u001b[38;5;124mf\u001b[39m\u001b[38;5;124m\"\u001b[39m\u001b[38;5;124mAn error occurred during training: \u001b[39m\u001b[38;5;132;01m{\u001b[39;00me\u001b[38;5;132;01m}\u001b[39;00m\u001b[38;5;124m\"\u001b[39m)\n\u001b[1;32m--> 101\u001b[0m     \u001b[38;5;28;01mraise\u001b[39;00m e\n",
      "Cell \u001b[1;32mIn[4], line 71\u001b[0m, in \u001b[0;36mModelTrainer.train\u001b[1;34m(self)\u001b[0m\n\u001b[0;32m     69\u001b[0m \u001b[38;5;66;03m# Training arguments\u001b[39;00m\n\u001b[0;32m     70\u001b[0m logger\u001b[38;5;241m.\u001b[39minfo(\u001b[38;5;124m\"\u001b[39m\u001b[38;5;124mConfiguring training arguments\u001b[39m\u001b[38;5;124m\"\u001b[39m)\n\u001b[1;32m---> 71\u001b[0m training_args \u001b[38;5;241m=\u001b[39m \u001b[43mTrainingArguments\u001b[49m\u001b[43m(\u001b[49m\n\u001b[0;32m     72\u001b[0m \u001b[43m    \u001b[49m\u001b[43moutput_dir\u001b[49m\u001b[38;5;241;43m=\u001b[39;49m\u001b[38;5;28;43mself\u001b[39;49m\u001b[38;5;241;43m.\u001b[39;49m\u001b[43mconfig\u001b[49m\u001b[38;5;241;43m.\u001b[39;49m\u001b[43mroot_dir\u001b[49m\u001b[43m,\u001b[49m\n\u001b[0;32m     73\u001b[0m \u001b[43m    \u001b[49m\u001b[43mnum_train_epochs\u001b[49m\u001b[38;5;241;43m=\u001b[39;49m\u001b[38;5;28;43mself\u001b[39;49m\u001b[38;5;241;43m.\u001b[39;49m\u001b[43mconfig\u001b[49m\u001b[38;5;241;43m.\u001b[39;49m\u001b[43mnum_train_epochs\u001b[49m\u001b[43m,\u001b[49m\n\u001b[0;32m     74\u001b[0m \u001b[43m    \u001b[49m\u001b[43mwarmup_steps\u001b[49m\u001b[38;5;241;43m=\u001b[39;49m\u001b[38;5;28;43mself\u001b[39;49m\u001b[38;5;241;43m.\u001b[39;49m\u001b[43mconfig\u001b[49m\u001b[38;5;241;43m.\u001b[39;49m\u001b[43mwarmup_steps\u001b[49m\u001b[43m,\u001b[49m\n\u001b[0;32m     75\u001b[0m \u001b[43m    \u001b[49m\u001b[43mper_device_train_batch_size\u001b[49m\u001b[38;5;241;43m=\u001b[39;49m\u001b[38;5;28;43mself\u001b[39;49m\u001b[38;5;241;43m.\u001b[39;49m\u001b[43mconfig\u001b[49m\u001b[38;5;241;43m.\u001b[39;49m\u001b[43mper_device_train_batch_size\u001b[49m\u001b[43m,\u001b[49m\n\u001b[0;32m     76\u001b[0m \u001b[43m    \u001b[49m\u001b[43mweight_decay\u001b[49m\u001b[38;5;241;43m=\u001b[39;49m\u001b[38;5;28;43mself\u001b[39;49m\u001b[38;5;241;43m.\u001b[39;49m\u001b[43mconfig\u001b[49m\u001b[38;5;241;43m.\u001b[39;49m\u001b[43mweight_decay\u001b[49m\u001b[43m,\u001b[49m\n\u001b[0;32m     77\u001b[0m \u001b[43m    \u001b[49m\u001b[43mlogging_steps\u001b[49m\u001b[38;5;241;43m=\u001b[39;49m\u001b[38;5;28;43mself\u001b[39;49m\u001b[38;5;241;43m.\u001b[39;49m\u001b[43mconfig\u001b[49m\u001b[38;5;241;43m.\u001b[39;49m\u001b[43mlogging_steps\u001b[49m\u001b[43m,\u001b[49m\n\u001b[0;32m     78\u001b[0m \u001b[43m    \u001b[49m\u001b[43mevaluation_strategy\u001b[49m\u001b[38;5;241;43m=\u001b[39;49m\u001b[38;5;28;43mself\u001b[39;49m\u001b[38;5;241;43m.\u001b[39;49m\u001b[43mconfig\u001b[49m\u001b[38;5;241;43m.\u001b[39;49m\u001b[43mevaluation_strategy\u001b[49m\u001b[43m,\u001b[49m\n\u001b[0;32m     79\u001b[0m \u001b[43m    \u001b[49m\u001b[43meval_steps\u001b[49m\u001b[38;5;241;43m=\u001b[39;49m\u001b[38;5;28;43mself\u001b[39;49m\u001b[38;5;241;43m.\u001b[39;49m\u001b[43mconfig\u001b[49m\u001b[38;5;241;43m.\u001b[39;49m\u001b[43meval_steps\u001b[49m\u001b[43m,\u001b[49m\n\u001b[0;32m     80\u001b[0m \u001b[43m    \u001b[49m\u001b[43mgradient_accumulation_steps\u001b[49m\u001b[38;5;241;43m=\u001b[39;49m\u001b[38;5;28;43mself\u001b[39;49m\u001b[38;5;241;43m.\u001b[39;49m\u001b[43mconfig\u001b[49m\u001b[38;5;241;43m.\u001b[39;49m\u001b[43mgradient_accumulation_steps\u001b[49m\u001b[43m,\u001b[49m\n\u001b[0;32m     81\u001b[0m \u001b[43m    \u001b[49m\u001b[43msave_steps\u001b[49m\u001b[38;5;241;43m=\u001b[39;49m\u001b[38;5;28;43mself\u001b[39;49m\u001b[38;5;241;43m.\u001b[39;49m\u001b[43mconfig\u001b[49m\u001b[38;5;241;43m.\u001b[39;49m\u001b[43msave_steps\u001b[49m\n\u001b[0;32m     82\u001b[0m \u001b[43m\u001b[49m\u001b[43m)\u001b[49m\n\u001b[0;32m     84\u001b[0m \u001b[38;5;66;03m# Initialize Trainer\u001b[39;00m\n\u001b[0;32m     85\u001b[0m logger\u001b[38;5;241m.\u001b[39minfo(\u001b[38;5;124m\"\u001b[39m\u001b[38;5;124mInitializing Trainer\u001b[39m\u001b[38;5;124m\"\u001b[39m)\n",
      "File \u001b[1;32m<string>:134\u001b[0m, in \u001b[0;36m__init__\u001b[1;34m(self, output_dir, overwrite_output_dir, do_train, do_eval, do_predict, eval_strategy, prediction_loss_only, per_device_train_batch_size, per_device_eval_batch_size, per_gpu_train_batch_size, per_gpu_eval_batch_size, gradient_accumulation_steps, eval_accumulation_steps, eval_delay, torch_empty_cache_steps, learning_rate, weight_decay, adam_beta1, adam_beta2, adam_epsilon, max_grad_norm, num_train_epochs, max_steps, lr_scheduler_type, lr_scheduler_kwargs, warmup_ratio, warmup_steps, log_level, log_level_replica, log_on_each_node, logging_dir, logging_strategy, logging_first_step, logging_steps, logging_nan_inf_filter, save_strategy, save_steps, save_total_limit, save_safetensors, save_on_each_node, save_only_model, restore_callback_states_from_checkpoint, no_cuda, use_cpu, use_mps_device, seed, data_seed, jit_mode_eval, use_ipex, bf16, fp16, fp16_opt_level, half_precision_backend, bf16_full_eval, fp16_full_eval, tf32, local_rank, ddp_backend, tpu_num_cores, tpu_metrics_debug, debug, dataloader_drop_last, eval_steps, dataloader_num_workers, dataloader_prefetch_factor, past_index, run_name, disable_tqdm, remove_unused_columns, label_names, load_best_model_at_end, metric_for_best_model, greater_is_better, ignore_data_skip, fsdp, fsdp_min_num_params, fsdp_config, fsdp_transformer_layer_cls_to_wrap, accelerator_config, deepspeed, label_smoothing_factor, optim, optim_args, adafactor, group_by_length, length_column_name, report_to, ddp_find_unused_parameters, ddp_bucket_cap_mb, ddp_broadcast_buffers, dataloader_pin_memory, dataloader_persistent_workers, skip_memory_metrics, use_legacy_prediction_loop, push_to_hub, resume_from_checkpoint, hub_model_id, hub_strategy, hub_token, hub_private_repo, hub_always_push, gradient_checkpointing, gradient_checkpointing_kwargs, include_inputs_for_metrics, include_for_metrics, eval_do_concat_batches, fp16_backend, evaluation_strategy, push_to_hub_model_id, push_to_hub_organization, push_to_hub_token, mp_parameters, auto_find_batch_size, full_determinism, torchdynamo, ray_scope, ddp_timeout, torch_compile, torch_compile_backend, torch_compile_mode, dispatch_batches, split_batches, include_tokens_per_second, include_num_input_tokens_seen, neftune_noise_alpha, optim_target_modules, batch_eval_metrics, eval_on_start, use_liger_kernel, eval_use_gather_object, average_tokens_across_devices)\u001b[0m\n",
      "File \u001b[1;32mc:\\Users\\gurra\\anaconda3\\envs\\myenvtext\\lib\\site-packages\\transformers\\training_args.py:1624\u001b[0m, in \u001b[0;36mTrainingArguments.__post_init__\u001b[1;34m(self)\u001b[0m\n\u001b[0;32m   1622\u001b[0m         \u001b[38;5;28;01mraise\u001b[39;00m \u001b[38;5;167;01mValueError\u001b[39;00m(\u001b[38;5;124mf\u001b[39m\u001b[38;5;124m\"\u001b[39m\u001b[38;5;124m--logging_steps must be an integer if bigger than 1: \u001b[39m\u001b[38;5;132;01m{\u001b[39;00m\u001b[38;5;28mself\u001b[39m\u001b[38;5;241m.\u001b[39mlogging_steps\u001b[38;5;132;01m}\u001b[39;00m\u001b[38;5;124m\"\u001b[39m)\n\u001b[0;32m   1623\u001b[0m     \u001b[38;5;28mself\u001b[39m\u001b[38;5;241m.\u001b[39mlogging_steps \u001b[38;5;241m=\u001b[39m \u001b[38;5;28mint\u001b[39m(\u001b[38;5;28mself\u001b[39m\u001b[38;5;241m.\u001b[39mlogging_steps)\n\u001b[1;32m-> 1624\u001b[0m \u001b[38;5;28;01mif\u001b[39;00m \u001b[38;5;28mself\u001b[39m\u001b[38;5;241m.\u001b[39meval_strategy \u001b[38;5;241m==\u001b[39m IntervalStrategy\u001b[38;5;241m.\u001b[39mSTEPS \u001b[38;5;129;01mand\u001b[39;00m \u001b[38;5;28;43mself\u001b[39;49m\u001b[38;5;241;43m.\u001b[39;49m\u001b[43meval_steps\u001b[49m\u001b[43m \u001b[49m\u001b[38;5;241;43m>\u001b[39;49m\u001b[43m \u001b[49m\u001b[38;5;241;43m1\u001b[39;49m:\n\u001b[0;32m   1625\u001b[0m     \u001b[38;5;28;01mif\u001b[39;00m \u001b[38;5;28mself\u001b[39m\u001b[38;5;241m.\u001b[39meval_steps \u001b[38;5;241m!=\u001b[39m \u001b[38;5;28mint\u001b[39m(\u001b[38;5;28mself\u001b[39m\u001b[38;5;241m.\u001b[39meval_steps):\n\u001b[0;32m   1626\u001b[0m         \u001b[38;5;28;01mraise\u001b[39;00m \u001b[38;5;167;01mValueError\u001b[39;00m(\u001b[38;5;124mf\u001b[39m\u001b[38;5;124m\"\u001b[39m\u001b[38;5;124m--eval_steps must be an integer if bigger than 1: \u001b[39m\u001b[38;5;132;01m{\u001b[39;00m\u001b[38;5;28mself\u001b[39m\u001b[38;5;241m.\u001b[39meval_steps\u001b[38;5;132;01m}\u001b[39;00m\u001b[38;5;124m\"\u001b[39m)\n",
      "\u001b[1;31mTypeError\u001b[0m: '>' not supported between instances of 'str' and 'int'"
     ]
    }
   ],
   "source": [
    "\n",
    "\n",
    "try:\n",
    "    config = ConfigurationManager()\n",
    "    model_trainer_config = config.get_model_trainer_config()\n",
    "    model_trainer = ModelTrainer(model_trainer_config)\n",
    "    \n",
    "    try:\n",
    "        print(\"Starting model training...\")\n",
    "        model_trainer.train()\n",
    "        print(\"Training completed successfully\")\n",
    "        \n",
    "    except KeyboardInterrupt:\n",
    "        print(\"\\nTraining interrupted by user. Saving checkpoint...\")\n",
    "        # Save checkpoint logic here if needed\n",
    "        model_trainer.save_checkpoint()\n",
    "        print(\"Checkpoint saved. Exiting gracefully.\")\n",
    "        sys.exit(0)\n",
    "        \n",
    "    except Exception as training_error:\n",
    "        print(f\"Training error occurred: {str(training_error)}\")\n",
    "        # Log the error details\n",
    "        logger.info(f\"Training failed with error: {str(training_error)}\")\n",
    "        raise\n",
    "\n",
    "except Exception as setup_error:\n",
    "    print(f\"Setup error occurred: {str(setup_error)}\")\n",
    "    logger.info(f\"Setup failed with error: {str(setup_error)}\")\n",
    "    raise"
   ]
  },
  {
   "cell_type": "code",
   "execution_count": null,
   "metadata": {},
   "outputs": [],
   "source": []
  },
  {
   "cell_type": "code",
   "execution_count": null,
   "metadata": {},
   "outputs": [],
   "source": []
  },
  {
   "cell_type": "code",
   "execution_count": null,
   "metadata": {},
   "outputs": [],
   "source": []
  },
  {
   "cell_type": "code",
   "execution_count": null,
   "metadata": {},
   "outputs": [],
   "source": []
  }
 ],
 "metadata": {
  "kernelspec": {
   "display_name": "myenvtext",
   "language": "python",
   "name": "python3"
  },
  "language_info": {
   "codemirror_mode": {
    "name": "ipython",
    "version": 3
   },
   "file_extension": ".py",
   "mimetype": "text/x-python",
   "name": "python",
   "nbconvert_exporter": "python",
   "pygments_lexer": "ipython3",
   "version": "3.8.20"
  }
 },
 "nbformat": 4,
 "nbformat_minor": 2
}
